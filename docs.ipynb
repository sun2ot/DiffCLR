{
 "cells": [
  {
   "cell_type": "markdown",
   "metadata": {},
   "source": [
    "## Update scipy.sparse API of the public datasets\n",
    "\n",
    "to clear the warnings"
   ]
  },
  {
   "cell_type": "code",
   "execution_count": 6,
   "metadata": {},
   "outputs": [],
   "source": [
    "import pickle\n",
    "from scipy.sparse import coo_matrix\n",
    "\n",
    "def redump(pkl_path: str):\n",
    "    with open(pkl_path, \"rb\") as f:\n",
    "        data = pickle.load(f)\n",
    "    coo = coo_matrix(data)\n",
    "    with open(pkl_path.replace(\".pkl\", \"_new.pkl\"), \"wb\") as f:\n",
    "        pickle.dump(coo, f)"
   ]
  },
  {
   "cell_type": "code",
   "execution_count": 7,
   "metadata": {},
   "outputs": [],
   "source": [
    "redump(\"datasets/tiktok/trnMat.pkl\")\n",
    "redump(\"datasets/tiktok/valMat.pkl\")\n",
    "redump(\"datasets/tiktok/tstMat.pkl\")"
   ]
  },
  {
   "cell_type": "code",
   "execution_count": 8,
   "metadata": {},
   "outputs": [
    {
     "name": "stderr",
     "output_type": "stream",
     "text": [
      "/tmp/ipykernel_107588/1411066735.py:6: DeprecationWarning: Please use `coo_matrix` from the `scipy.sparse` namespace, the `scipy.sparse.coo` namespace is deprecated.\n",
      "  data = pickle.load(f)\n"
     ]
    }
   ],
   "source": [
    "redump(\"datasets/sports/trnMat.pkl\")\n",
    "redump(\"datasets/sports/valMat.pkl\")\n",
    "redump(\"datasets/sports/tstMat.pkl\")"
   ]
  },
  {
   "cell_type": "markdown",
   "metadata": {},
   "source": [
    "## Show data statistics"
   ]
  },
  {
   "cell_type": "code",
   "execution_count": 1,
   "metadata": {},
   "outputs": [],
   "source": [
    "import pickle\n",
    "from scipy.sparse import coo_matrix\n",
    "import numpy as np\n",
    "\n",
    "def show_data(data_path: str):\n",
    "    with open(data_path, \"rb\") as f:\n",
    "        data = pickle.load(f)\n",
    "    format_str = f\"type: {type(data)}, shape: {data.shape}, nnz: {data.nnz}\"\n",
    "    print(format_str)\n",
    "\n",
    "def show_feats(feats_path: str):\n",
    "    feats = np.load(feats_path)\n",
    "    format_str = f\"type: {type(feats)}, shape: {feats.shape}\"\n",
    "    print(format_str)"
   ]
  },
  {
   "cell_type": "code",
   "execution_count": 2,
   "metadata": {},
   "outputs": [
    {
     "name": "stdout",
     "output_type": "stream",
     "text": [
      "Dataset: tiktok\n",
      "type: <class 'scipy.sparse._coo.coo_matrix'>, shape: (9308, 6710), nnz: 59541\n",
      "type: <class 'scipy.sparse._coo.coo_matrix'>, shape: (9308, 6710), nnz: 3051\n",
      "type: <class 'scipy.sparse._coo.coo_matrix'>, shape: (9308, 6710), nnz: 6130\n",
      "\n",
      "Dataset: yelp\n",
      "type: <class 'scipy.sparse._coo.coo_matrix'>, shape: (37397, 32491), nnz: 165008\n",
      "type: <class 'scipy.sparse._coo.coo_matrix'>, shape: (37397, 32491), nnz: 47147\n",
      "type: <class 'scipy.sparse._coo.coo_matrix'>, shape: (37397, 32491), nnz: 23580\n",
      "\n",
      "Dataset: sports\n",
      "type: <class 'scipy.sparse._coo.coo_matrix'>, shape: (35598, 18357), nnz: 218409\n",
      "type: <class 'scipy.sparse._coo.coo_matrix'>, shape: (35598, 18357), nnz: 40029\n",
      "type: <class 'scipy.sparse._coo.coo_matrix'>, shape: (35598, 18357), nnz: 37899\n",
      "\n"
     ]
    }
   ],
   "source": [
    "datasets = [\"tiktok\", \"yelp\", \"sports\"]\n",
    "for ds in datasets:\n",
    "    print(f\"Dataset: {ds}\")\n",
    "    show_data(f\"datasets/{ds}/trnMat.pkl\")\n",
    "    show_data(f\"datasets/{ds}/valMat.pkl\")\n",
    "    show_data(f\"datasets/{ds}/tstMat.pkl\")\n",
    "    print()"
   ]
  },
  {
   "cell_type": "code",
   "execution_count": 4,
   "metadata": {},
   "outputs": [
    {
     "name": "stdout",
     "output_type": "stream",
     "text": [
      "Dataset: tiktok\n",
      "type: <class 'numpy.ndarray'>, shape: (6710, 128)\n",
      "type: <class 'numpy.ndarray'>, shape: (6710, 768)\n",
      "type: <class 'numpy.ndarray'>, shape: (6710, 128)\n",
      "\n",
      "Dataset: yelp\n",
      "type: <class 'numpy.ndarray'>, shape: (32491, 512)\n",
      "type: <class 'numpy.ndarray'>, shape: (32491, 1024)\n",
      "\n",
      "Dataset: sports\n",
      "type: <class 'numpy.ndarray'>, shape: (18357, 4096)\n",
      "type: <class 'numpy.ndarray'>, shape: (18357, 1024)\n",
      "\n"
     ]
    }
   ],
   "source": [
    "datasets = [\"tiktok\", \"yelp\", \"sports\"]\n",
    "for ds in datasets:\n",
    "    print(f\"Dataset: {ds}\")\n",
    "    if ds == \"tiktok\":\n",
    "        show_feats(f\"datasets/{ds}/image_feat.npy\")\n",
    "        show_feats(f\"datasets/{ds}/text_feat.npy\")\n",
    "        show_feats(f\"datasets/{ds}/audio_feat.npy\")\n",
    "        print()\n",
    "        continue\n",
    "    show_feats(f\"datasets/{ds}/image_feat.npy\")\n",
    "    show_feats(f\"datasets/{ds}/text_feat.npy\")\n",
    "    print()"
   ]
  },
  {
   "cell_type": "markdown",
   "metadata": {},
   "source": [
    "## Reproduction\n",
    "\n",
    "Extract the test function from main code. Keep the same seed and load the trained user/item embeddings to reproduce."
   ]
  },
  {
   "cell_type": "code",
   "execution_count": 1,
   "metadata": {},
   "outputs": [
    {
     "name": "stderr",
     "output_type": "stream",
     "text": [
      "/home/yzh/miniforge3/envs/odiffmm/lib/python3.10/site-packages/tqdm/auto.py:21: TqdmWarning: IProgress not found. Please update jupyter and ipywidgets. See https://ipywidgets.readthedocs.io/en/stable/user_install.html\n",
      "  from .autonotebook import tqdm as notebook_tqdm\n"
     ]
    }
   ],
   "source": [
    "from safetensors.torch import load_file\n",
    "import torch\n",
    "from torch import Tensor\n",
    "import torch.utils.data as dataloader\n",
    "from utils import set_seed, cal_metrics\n",
    "from utils.conf import load_config\n",
    "from data import DataHandler\n",
    "\n",
    "def predict(config_path, tensor_path) -> None:\n",
    "    config = load_config(config_path)\n",
    "    set_seed(config.base.seed)\n",
    "    handler = DataHandler(config)\n",
    "    handler.load_data()\n",
    "    test_loader = dataloader.DataLoader(handler.test_data, batch_size=config.train.batch, shuffle=False, num_workers=0)\n",
    "    device = torch.device(\"cuda\" if torch.cuda.is_available() else \"cpu\")\n",
    "\n",
    "    embs = load_file(tensor_path, device=\"cuda\")\n",
    "    user_embs = embs['user']\n",
    "    item_embs = embs['item']\n",
    "\n",
    "    epoch_recall, epch_ndcg, epoch_precision = [0] * 3\n",
    "    i = 0\n",
    "    data_length = len(handler.test_data)\n",
    "\n",
    "    for usr, mask in test_loader:\n",
    "        i += 1\n",
    "        usr: Tensor = usr.long().cuda(device)\n",
    "        mask: Tensor = mask.cuda(device)\n",
    "        predict = torch.mm(user_embs[usr], torch.transpose(item_embs, 1, 0)) * (1 - mask) - mask * 1e8\n",
    "        _, top_idxs = torch.topk(predict, config.base.topk)\n",
    "        recall, ndcg, precision = cal_metrics(config.base.topk, top_idxs.cpu().numpy(), handler.test_data.test_user_its, usr)\n",
    "        epoch_recall += recall\n",
    "        epch_ndcg += ndcg\n",
    "        epoch_precision += precision\n",
    "    result = dict()\n",
    "    result['Recall'] = epoch_recall / data_length\n",
    "    result['NDCG'] = epch_ndcg / data_length\n",
    "    result['Precision'] = epoch_precision / data_length\n",
    "    print(result)"
   ]
  },
  {
   "cell_type": "code",
   "execution_count": 2,
   "metadata": {},
   "outputs": [
    {
     "name": "stdout",
     "output_type": "stream",
     "text": [
      "{'Recall': 0.10834955709808229, 'NDCG': 0.049213763468739694, 'Precision': 0.005725040732625417}\n"
     ]
    }
   ],
   "source": [
    "config_path = \"conf/sports.toml\"\n",
    "tensor_path = \"persist/sports/2025-05-18_16-01-52_embs.safetensors\"\n",
    "predict(config_path, tensor_path)"
   ]
  }
 ],
 "metadata": {
  "kernelspec": {
   "display_name": "mdrec",
   "language": "python",
   "name": "python3"
  },
  "language_info": {
   "codemirror_mode": {
    "name": "ipython",
    "version": 3
   },
   "file_extension": ".py",
   "mimetype": "text/x-python",
   "name": "python",
   "nbconvert_exporter": "python",
   "pygments_lexer": "ipython3",
   "version": "3.10.16"
  }
 },
 "nbformat": 4,
 "nbformat_minor": 2
}
